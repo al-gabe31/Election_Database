{
 "cells": [
  {
   "cell_type": "code",
   "execution_count": 1,
   "metadata": {},
   "outputs": [
    {
     "name": "stdout",
     "output_type": "stream",
     "text": [
      "Connection Established\n"
     ]
    }
   ],
   "source": [
    "import sqlite3\n",
    "import functions\n",
    "import importlib # For reloading the functions.py module everytime I want to add something to it\n",
    "importlib.reload(functions)\n",
    "from functions import *\n",
    "from math import sqrt, pow\n",
    "\n",
    "conn = sqlite3.connect('elections.sqlite') # Connects to the sqlite database\n",
    "c = conn.cursor()\n",
    "\n",
    "print(\"Connection Established\")"
   ]
  },
  {
   "cell_type": "code",
   "execution_count": 8,
   "metadata": {},
   "outputs": [
    {
     "name": "stdout",
     "output_type": "stream",
     "text": [
      "createAll.sql Successful Executed\n",
      "loadAll.sql Successful Executed\n"
     ]
    }
   ],
   "source": [
    "# Adds all the data we had in milestone 2 to the database\n",
    "\n",
    "execute_SQL(conn, c, 'createAll.sql') # Creates the tables\n",
    "execute_SQL(conn, c, 'loadAll.sql') # Loads all data"
   ]
  },
  {
   "cell_type": "markdown",
   "metadata": {},
   "source": [
    "# A. Activities:\n",
    "1. a clerk creating a new ballot\n",
    "2. a folk registering to vote for a ballot\n",
    "3. a clerk modifying the availability period of a current ballot\n",
    "4. a voter casting a ballot while confirming a valid voting registration by a monitor\n",
    "    Use a SQL transaction to enture ACID properties (serializability) in the face of other concurrent oeprations or failures\n",
    "5. a staff removing a folk (and all their associated information)"
   ]
  },
  {
   "cell_type": "code",
   "execution_count": 9,
   "metadata": {},
   "outputs": [
    {
     "name": "stdout",
     "output_type": "stream",
     "text": [
      "New availability_ID detected. Please input data for the ballot's availability.\n"
     ]
    }
   ],
   "source": [
    "# 1.a. a clerk creating a new ballot\n",
    "\n",
    "# ballot_ID = 4 # Leave this commented if you just want to use the next available ballot_ID (primary key)\n",
    "\n",
    "# Uncomment the lines if you want to input your own values\n",
    "# short_name = str(input(\"short_name: \"))\n",
    "# question_text = str(input(\"question_text: \"))\n",
    "# availability_ID = int(input(\"availability_ID: \"))\n",
    "\n",
    "\n",
    "# Predetermined values (feel free to change if you want)\n",
    "short_name = \"GH78\"\n",
    "question_text = \"Should the country invest more into secondary education?\"\n",
    "availability_ID = 4\n",
    "\n",
    "# If it asks you for the start_time and end_time, just use these values:\n",
    "#   - 2023-10-28 08:00:00\n",
    "#   - 2023-11-08 20:00:00\n",
    "\n",
    "\n",
    "# Creates the new ballot\n",
    "create_new_Ballots(conn, c, short_name, question_text, availability_ID)"
   ]
  },
  {
   "cell_type": "code",
   "execution_count": 10,
   "metadata": {},
   "outputs": [],
   "source": [
    "# 2.a. a folk registering to vote for a ballot\n",
    "\n",
    "# voting_reg_ID = 25 # Leave this commented if you just want to use the next available voting_reg_ID (primary key)\n",
    "\n",
    "# Uncomment the lines if you want to input your own values\n",
    "# identifier = int(input(\"identifier: \"))\n",
    "# voting_date = str(input(\"voting_date: \"))\n",
    "# ballot_ID = int(input(\"ballot_ID: \"))\n",
    "# voting_center_ID = int(input(\"voting_center_ID: \"))\n",
    "\n",
    "# Predetermined values (feel free to change if you want)\n",
    "identifier = 1\n",
    "voting_date = \"2023-10-28\"\n",
    "ballot_ID = 4\n",
    "voting_center_ID = 1\n",
    "\n",
    "# Creates the new voting registry\n",
    "create_new_Voting_Registry(conn, c, identifier, voting_date, ballot_ID, voting_center_ID)"
   ]
  },
  {
   "cell_type": "code",
   "execution_count": 11,
   "metadata": {},
   "outputs": [],
   "source": [
    "# 3. a clerk modifying the availability period of a current ballot\n",
    "\n",
    "# Uncomment the lines if you want to input your own values\n",
    "# ballot_ID = int(input(\"ballot_ID: \"))\n",
    "# start_time = str(input(\"start_time: \"))\n",
    "# end_time = str(input(\"end_time: \"))\n",
    "\n",
    "# Predetermined values (feel free to change if you want)\n",
    "ballot_ID = 4\n",
    "start_time = \"2023-10-28 08:00:00\"\n",
    "end_time = \"2023-11-09 20:00:00\"\n",
    "\n",
    "# Modifies the availability period of a current ballot\n",
    "modify_ballot_availability(conn, c, ballot_ID, start_time, end_time)"
   ]
  },
  {
   "cell_type": "code",
   "execution_count": 12,
   "metadata": {},
   "outputs": [],
   "source": [
    "# 4. a voter casting a ballot while confirming a valid voting registration by a monitor\n",
    "#    Use a SQL transaction to enture ACID properties (serializability) in the face of other concurrent oeprations or failures\n",
    "\n",
    "# cast_vote_ID = 19 # Leave this commented if you just want to use the next available cast_vote_ID (primary key)\n",
    "\n",
    "# Uncomment the lines if you want to input your own values\n",
    "# voter_ID = int(input(\"voter_ID: \"))\n",
    "# voting_reg_ID = int(input(\"voting_reg_ID: \"))\n",
    "# ballot_ID = int(input(\"ballot_ID: \"))\n",
    "# monitor_ID = int(input(\"monitor_ID: \"))\n",
    "# vote_time = str(input(\"vote_time\"))\n",
    "# vote = str(input(\"vote: \"))\n",
    "\n",
    "# Predetermined values (feel free to change if you want)\n",
    "voter_ID = 1\n",
    "voting_reg_ID = 25\n",
    "ballot_ID = 4 # The latest ballot added\n",
    "monitor_ID = 14\n",
    "vote_time = \"2023-10-28 10:00:00\"\n",
    "vote = \"NO\"\n",
    "\n",
    "# Creates the new cast ballot\n",
    "create_new_Cast_Votes(conn, c, voter_ID, voting_reg_ID, ballot_ID, monitor_ID, vote_time, vote)\n",
    "# You can try running the command above again with the same voting_reg_ID. It'll tell you that the voting_reg_ID has already casted a vote (meaning that it works as intended)."
   ]
  },
  {
   "cell_type": "code",
   "execution_count": 13,
   "metadata": {},
   "outputs": [
    {
     "name": "stdout",
     "output_type": "stream",
     "text": [
      "name_ID = 12\n",
      "emails_ID = 12\n"
     ]
    }
   ],
   "source": [
    "# 5. a staff removing a folk (and all their associated information)\n",
    "\n",
    "# Uncomment the lines if you want to input your own values\n",
    "# personal_ID = int(input(\"personal_ID: \"))\n",
    "\n",
    "# Predetermined values (feel free to change if you want)\n",
    "personal_ID = 12\n",
    "\n",
    "# Removes the folk and all its info\n",
    "remove_folk(conn, c, personal_ID)"
   ]
  },
  {
   "cell_type": "markdown",
   "metadata": {},
   "source": [
    "# B. Queries/Reports:\n",
    "1. List the name, city and email (any single email suffices) of all folks.\n",
    "2. List the city, state, and the number of residences of each city in Wonderland (skip cities with no residents) in decreasing order of number of residents.\n",
    "3. List each state together with its number of currently inhabited places (include states with no inhabited places) in increasing alphabetical order.\n",
    "4. Find the distinct identifiers of folks registered at a given voting center within a given time period.\n",
    "5. Find for a given month, the number of unique registrations at any voting center which is within 5 miles from the center of Megapolis, except for voting centers in a given (exclusion) list of voting centers.\n",
    "6. Find the most popular voting center(s) (in terms of total number of registrations) in a given time period among those in a given city.\n",
    "7. Find the unique folk that have valid registrations with every voting center on a given state.\n",
    "8. Find folks that registered at a voting center that is farther away than the voting center closest to their residence (break ties alphabetically by center's acronym).\n",
    "9. Write a SQL function that returns the acronym of the voting center closest to the residence of a given folk among those whose operating period(s) contain a given date (return NULL if no such center exists; break ties at alphabetically by acronym).\n",
    "10. For a given ballot, construct a cross-tabulation of voting centers (acronym) as rows, unique ballot answers (options) as columns, and cells indicating number of cast votes at the row's center with the column's option."
   ]
  },
  {
   "cell_type": "code",
   "execution_count": 14,
   "metadata": {},
   "outputs": [
    {
     "name": "stdout",
     "output_type": "stream",
     "text": [
      "FIRST NAME        LAST NAME        CITY        EMAIL        \n",
      "Arturo            Washington       Chandal     HT3701@gmail.com\n",
      "Megan             Norman           Chandal     HQ6413@gmail.com\n",
      "Jody              Marsh            Chandal     TU9080@gmail.com\n",
      "Micheal           Weiss            Chandal     PE0814@gmail.com\n",
      "Rosario           Ho               Chandal     QB7606@gmail.com\n",
      "Elizabeth         Ayers            Chandal     GM9365@gmail.com\n",
      "Mayra             Baxter           Chandal     BL5613@gmail.com\n",
      "Sonia             Drake            Chandal     MU9077@gmail.com\n",
      "Chelsea           Hinton           Chandal     QW8964@gmail.com\n",
      "Corey             Henderson        Chandal     BQ9542@gmail.com\n",
      "Jenny             Lake             Chandal     FM3227@gmail.com\n",
      "\n"
     ]
    }
   ],
   "source": [
    "# 1. List the name, city and email (any single email suffices) of all folks.\n",
    "\n",
    "command = \"\"\"\n",
    "SELECT first_name AS 'First Name', last_name AS 'Last Name', city AS 'City', email AS 'Email' FROM Folks\n",
    "JOIN Folks_Name ON Folks.name_ID = Folks_Name.name_ID\n",
    "JOIN Folks_Emails ON Folks.emails_ID = Folks_Emails.emails_ID\n",
    "JOIN (\n",
    "    SELECT * FROM Places\n",
    "    JOIN Places_Residences ON Places.place_ID = Places_Residences.place_ID\n",
    "    JOIN Places_Address ON Places.address_ID = Places_Address.address_ID\n",
    ")\n",
    "GROUP BY Folks.personal_ID;\n",
    "\"\"\"\n",
    "column_names = [\"First Name\", \"Last Name\", \"City\", \"Email\"]\n",
    "\n",
    "print_table(conn, c, column_names, command, bold_col_names=True)"
   ]
  },
  {
   "cell_type": "code",
   "execution_count": 15,
   "metadata": {},
   "outputs": [
    {
     "name": "stdout",
     "output_type": "stream",
     "text": [
      "CITY        STATE        NUMBER OF RESIDENCES IN STATE        \n",
      "Chandal     Samarson     11                                   \n",
      "\n"
     ]
    }
   ],
   "source": [
    "# 2. List the city, state, and the number of residences of each city in Wonderland (skip cities with no residents) in decreasing order of number of residents.\n",
    "\n",
    "command = \"\"\"\n",
    "SELECT city AS 'City', state AS 'State', COUNT(city) AS 'Number of Residences in State' FROM Places\n",
    "JOIN Places_Residences ON Places.place_ID = Places_Residences.place_ID\n",
    "JOIN Folks ON Folks.residence_ID = Places_Residences.place_ID\n",
    "JOIN Places_Address ON Places.address_ID = Places_Address.address_ID\n",
    "ORDER BY COUNT(city) DESC;\n",
    "\"\"\"\n",
    "column_names = [\"City\", \"State\", \"Number of Residences in State\"]\n",
    "\n",
    "print_table(conn, c, column_names, command, bold_col_names=True)"
   ]
  },
  {
   "cell_type": "code",
   "execution_count": 16,
   "metadata": {},
   "outputs": [
    {
     "name": "stdout",
     "output_type": "stream",
     "text": [
      "STATE        NUM RESIDENCES        \n",
      "Livalla      0                     \n",
      "Samarson     11                    \n",
      "\n"
     ]
    }
   ],
   "source": [
    "# 3. List each state together with its number of currently inhabited places (include states with no inhabited places) in increasing alphabetical order.\n",
    "\n",
    "command = \"\"\"\n",
    "SELECT state AS 'State', COUNT(Folks.residence_ID) AS 'Num Residences' FROM Places\n",
    "LEFT JOIN Folks ON Folks.residence_ID = Places.place_ID\n",
    "JOIN Places_Address ON Places.address_ID = Places_Address.address_ID\n",
    "GROUP BY Places.address_ID\n",
    "ORDER BY State\n",
    "\"\"\"\n",
    "column_names = [\"State\", \"Num Residences\"]\n",
    "\n",
    "print_table(conn, c, column_names, command, bold_col_names=True)"
   ]
  },
  {
   "cell_type": "code",
   "execution_count": 17,
   "metadata": {},
   "outputs": [
    {
     "name": "stdout",
     "output_type": "stream",
     "text": [
      "IDENTIFIER        \n",
      "1                 \n",
      "4                 \n",
      "\n"
     ]
    }
   ],
   "source": [
    "# 4. Find the distinct identifiers of folks registered at a given voting center within a given time period.\n",
    "\n",
    "# Predetermined values (feel free to change if you want)\n",
    "start_time = \"2023-10-28\"\n",
    "end_time = \"2023-11-02\"\n",
    "voting_center_ID = 1\n",
    "\n",
    "command = f\"\"\"\n",
    "SELECT DISTINCT identifier FROM ( \n",
    "    SELECT identifier, voting_date, first_name, last_name, voting_reg_ID, Places_Voting_Center.acronym FROM Voting_Registry\n",
    "    JOIN Places_Voting_Center ON Voting_Registry.voting_center_ID = Places_Voting_Center.place_ID\n",
    "    JOIN Folks ON Folks.personal_ID = Voting_Registry.identifier\n",
    "    JOIN Folks_Name ON Folks.name_ID = Folks_Name.name_ID\n",
    "    WHERE (voting_date BETWEEN '{start_time}' AND '{end_time}') AND (Places_Voting_Center.place_ID = {voting_center_ID})\n",
    "    ORDER BY voting_date\n",
    ")\n",
    "\"\"\"\n",
    "column_names = [\"Identifier\"]\n",
    "\n",
    "print_table(conn, c, column_names, command, bold_col_names=True)"
   ]
  },
  {
   "cell_type": "code",
   "execution_count": 18,
   "metadata": {},
   "outputs": [
    {
     "name": "stdout",
     "output_type": "stream",
     "text": [
      "VOTING_CENTER_ID        NUM UNIQUE REGISTRATIONS @ MONTH #11        \n",
      "1                       4                                           \n",
      "3                       4                                           \n",
      "\n"
     ]
    }
   ],
   "source": [
    "# 5. Find for a given month, the number of unique registrations at any voting center which is within 5 miles from the center of Megapolis, except for voting centers in a given (exclusion) list of voting centers.\n",
    "\n",
    "# IMPORTANT NOTE: For some reason, I cannot use the SQRT() nor POWER(). Instead, I'll just manually add the distances for each voting center\n",
    "\n",
    "# Predetermined values (feel free to change if you want)\n",
    "month = \"11\"\n",
    "excluded_voting_center_IDs = [2]\n",
    "excluded_voting_center_IDs = format_tuple(excluded_voting_center_IDs)\n",
    "\n",
    "command = f\"\"\"\n",
    "SELECT Places.place_ID, x_coord, y_coord FROM Places\n",
    "JOIN Places_Voting_Center ON Places.place_ID = Places_Voting_Center.place_ID\n",
    "JOIN Places_Coordinates ON Places.coordinates_ID = Places_Coordinates.coordinates_ID\n",
    "\"\"\"\n",
    "column_names = []\n",
    "\n",
    "# print_table(conn, c, column_names, command, bold_col_names=True)\n",
    "\n",
    "query_1 = get_query(conn, c, command)\n",
    "nearby_voting_centers = [] # List of voting center IDs that are near Megapolis\n",
    "\n",
    "# Add the distance from the origin on each voting center\n",
    "for i in range(len(query_1)):\n",
    "    query_1[i] = list(query_1[i])\n",
    "    query_1[i].append(sqrt(pow(query_1[i][1], 2) + pow(query_1[i][2], 2)))\n",
    "    query_1[i] = tuple(query_1[i])\n",
    "\n",
    "    if query_1[i][3] <= 5:\n",
    "        nearby_voting_centers.append(query_1[i][0])\n",
    "\n",
    "nearby_voting_centers = format_tuple(nearby_voting_centers)\n",
    "\n",
    "\n",
    "\n",
    "\n",
    "command = f\"\"\"\n",
    "SELECT voting_center_ID, COUNT(voting_center_ID) FROM Voting_Registry\n",
    "WHERE strftime('%m', voting_date) = '{month}' AND voting_center_ID IN {nearby_voting_centers} AND voting_center_ID NOT IN {excluded_voting_center_IDs}\n",
    "GROUP BY voting_center_ID\n",
    "\"\"\"\n",
    "column_names = [\"Voting_Center_ID\", f\"Num Unique Registrations @ Month #{month}\"]\n",
    "\n",
    "print_table(conn, c, column_names, command, bold_col_names=True)"
   ]
  },
  {
   "cell_type": "code",
   "execution_count": 19,
   "metadata": {},
   "outputs": [
    {
     "name": "stdout",
     "output_type": "stream",
     "text": [
      "VOTING_CENTER_ID        NUM VOTING REGISTRATIONS BETWEEN '2023-10-28' - '2023-11-02'        \n",
      "1                       5                                                                   \n",
      "3                       4                                                                   \n",
      "2                       4                                                                   \n",
      "\n"
     ]
    }
   ],
   "source": [
    "# 6. Find the most popular voting center(s) (in terms of total number of registrations) in a given time period among those in a given city.\n",
    "\n",
    "# Predetermined values (feel free to change if you want)\n",
    "start_time = \"2023-10-28\"\n",
    "end_time = \"2023-11-02\"\n",
    "city = \"Watestone\"\n",
    "\n",
    "command = f\"\"\"\n",
    "SELECT voting_center_ID, COUNT(voting_center_ID) FROM Voting_Registry\n",
    "JOIN (\n",
    "    SELECT Places.place_ID FROM Places\n",
    "    JOIN Places_Voting_Center ON Places.place_ID = Places_Voting_Center.place_ID\n",
    "    JOIN Places_Address ON Places.address_ID = Places_Address.address_ID\n",
    "    WHERE city = '{city}'\n",
    ") AS subquery ON Voting_Registry.voting_center_ID = subquery.place_ID\n",
    "WHERE voting_date BETWEEN '{start_time}' AND '{end_time}'\n",
    "GROUP BY voting_center_ID\n",
    "ORDER BY COUNT(voting_center_ID) DESC\n",
    "\"\"\"\n",
    "\n",
    "# command = f\"\"\"\n",
    "# SELECT Places.place_ID FROM Places\n",
    "# JOIN Places_Voting_Center ON Places.place_ID = Places_Voting_Center.place_ID\n",
    "# JOIN Places_Address ON Places.address_ID = Places_Address.address_ID\n",
    "# WHERE city = '{city}'\n",
    "# \"\"\"\n",
    "column_names = [\"Voting_Center_ID\", f\"Num Voting Registrations Between '{start_time}' - '{end_time}'\"]\n",
    "\n",
    "print_table(conn, c, column_names, command, bold_col_names=True)"
   ]
  },
  {
   "cell_type": "code",
   "execution_count": 20,
   "metadata": {},
   "outputs": [
    {
     "name": "stdout",
     "output_type": "stream",
     "text": [
      "IDENTIFIER        \n",
      "1                 \n",
      "\n"
     ]
    }
   ],
   "source": [
    "# 7. Find the unique folk that have valid registrations with every voting center on a given state.\n",
    "\n",
    "# As of right now, there probably isn't a single folk that's registered for vote for every voting center. Let's try to get someone to register for every voting center.\n",
    "c.execute(f\"\"\"\n",
    "            INSERT INTO Voting_Registry\n",
    "            VALUES ({get_next_ID(conn, c, 'Voting_Registry')}, 1, '2023-10-28', 4, 2);\n",
    "\"\"\")\n",
    "c.execute(f\"\"\"\n",
    "            INSERT INTO Voting_Registry\n",
    "            VALUES ({get_next_ID(conn, c, 'Voting_Registry')}, 1, '2023-10-28', 4, 3);\n",
    "\"\"\")\n",
    "conn.commit()\n",
    "\n",
    "\n",
    "\n",
    "state = \"Livalla\"\n",
    "\n",
    "# not gonna lie, this query involved me using all my braincells Q_Q (but it works me thinks)\n",
    "command = f\"\"\"\n",
    "SELECT subquery2.identifier FROM (\n",
    "    SELECT DISTINCT identifier, subquery.place_ID, Num_Voting_Centers FROM Voting_Registry\n",
    "    JOIN (\n",
    "        SELECT Places_Voting_Center.place_ID, count.Num_Voting_Centers FROM Places\n",
    "        JOIN Places_Voting_Center ON Places.place_ID = Places_Voting_Center.place_ID\n",
    "        JOIN Places_Address ON Places.address_ID = Places_Address.address_ID\n",
    "        CROSS JOIN (\n",
    "            SELECT COUNT(*) AS 'Num_Voting_Centers' FROM Places\n",
    "            JOIN Places_Voting_Center ON Places.place_ID = Places_Voting_Center.place_ID\n",
    "            JOIN Places_Address ON Places.address_ID = Places_Address.address_ID\n",
    "            WHERE state = '{state}'\n",
    "        ) AS count\n",
    "        WHERE state = '{state}'\n",
    "    ) AS subquery ON Voting_Registry.voting_center_ID = subquery.place_ID\n",
    "    ORDER BY identifier\n",
    ") AS subquery2\n",
    "GROUP BY identifier\n",
    "HAVING COUNT(subquery2.identifier) = Num_Voting_Centers\n",
    "\"\"\"\n",
    "\n",
    "print_table(conn, c, [\"Identifier\"], command, bold_col_names=True)"
   ]
  },
  {
   "cell_type": "code",
   "execution_count": 21,
   "metadata": {},
   "outputs": [
    {
     "name": "stdout",
     "output_type": "stream",
     "text": [
      "PERSONAL_ID        FIRST NAME        LAST NAME        \n",
      "1                  Arturo            Washington       \n",
      "2                  Megan             Norman           \n",
      "3                  Jody              Marsh            \n",
      "5                  Rosario           Ho               \n",
      "6                  Elizabeth         Ayers            \n",
      "8                  Sonia             Drake            \n",
      "9                  Chelsea           Hinton           \n",
      "11                 Jenny             Lake             \n",
      "\n"
     ]
    }
   ],
   "source": [
    "# 8. Find folks that registered at a voting center that is farther away than the voting center closest to their residence (break ties alphabetically by center's acronym).\n",
    "\n",
    "# We first want info about which voting center is closest to each residence\n",
    "command = \"\"\"\n",
    "SELECT Places.place_ID, role, x_coord, y_coord, acronym FROM Places\n",
    "JOIN Places_Coordinates ON Places.coordinates_ID = Places_Coordinates.coordinates_ID\n",
    "LEFT JOIN Places_Voting_Center ON Places.place_ID = Places_Voting_Center.place_ID\n",
    "\"\"\"\n",
    "places_data = get_query(conn, c, command)\n",
    "\n",
    "voting_centers = {}\n",
    "residences = {}\n",
    "\n",
    "for data in places_data:\n",
    "    # print(data)\n",
    "\n",
    "    if data[1] == \"Residences\":\n",
    "        residences[data[0]] = {\n",
    "            'x_coord': data[2],\n",
    "            'y_coord': data[3]\n",
    "        }\n",
    "    elif data[1] == \"Voting Center\":\n",
    "        voting_centers[data[0]] = {\n",
    "            'x_coord': data[2],\n",
    "            'y_coord': data[3],\n",
    "            'acronym': data[4]\n",
    "        }\n",
    "\n",
    "for residence_place_ID in residences:\n",
    "    started = False\n",
    "    \n",
    "    curr_closest_voting_center_distance = 0\n",
    "    curr_closest_voting_center_address_ID = -1\n",
    "\n",
    "    # Finds the closest voting center to each residence (creates a mapping of some sorts)\n",
    "    for voting_center_place_ID in voting_centers:\n",
    "        curr_distance = sqrt(pow(residences[residence_place_ID]['x_coord'] - voting_centers[voting_center_place_ID]['x_coord'], 2) + pow(residences[residence_place_ID]['y_coord'] - voting_centers[voting_center_place_ID]['y_coord'], 2))\n",
    "\n",
    "        if started == False:\n",
    "            curr_closest_voting_center_distance = curr_distance\n",
    "            curr_closest_voting_center_address_ID = voting_center_place_ID\n",
    "            started = True\n",
    "        elif curr_distance < curr_closest_voting_center_distance:\n",
    "            curr_closest_voting_center_distance = curr_distance\n",
    "            curr_closest_voting_center_address_ID = voting_center_place_ID\n",
    "        \n",
    "        # break ties alphabetically by center's acronym\n",
    "        elif curr_distance == curr_closest_voting_center_distance and voting_centers[voting_center_place_ID]['acronym'] < voting_centers[curr_closest_voting_center_address_ID]['acronym']:\n",
    "            curr_closest_voting_center_distance = curr_distance\n",
    "            curr_closest_voting_center_address_ID = voting_center_place_ID\n",
    "    \n",
    "    residences[residence_place_ID]['closest_voting_center_ID'] = curr_closest_voting_center_address_ID\n",
    "\n",
    "\n",
    "\n",
    "# Creates a temporary table to make our queries easier\n",
    "# The table creates a mapping where the key is the residence ID and the value is the ID of the closest voting center\n",
    "command = \"\"\"\n",
    "CREATE TABLE Temp_Closest_Data (\n",
    "    residence_ID INT,\n",
    "    voting_center_ID INT\n",
    ")\n",
    "\"\"\"\n",
    "\n",
    "c.execute(command)\n",
    "conn.commit()\n",
    "\n",
    "\n",
    "\n",
    "# Populates data from the residences dictionary\n",
    "for place_ID in residences:\n",
    "    command = f\"\"\"\n",
    "    INSERT INTO Temp_Closest_Data\n",
    "    VALUES ({place_ID}, {residences[place_ID]['closest_voting_center_ID']})\n",
    "    \"\"\"\n",
    "\n",
    "    c.execute(command)\n",
    "    conn.commit()\n",
    "\n",
    "\n",
    "# The actual query for this section\n",
    "command = f\"\"\"\n",
    "SELECT DISTINCT Voting_Registry.identifier, Folks_Name.first_name, Folks_Name.last_name FROM Voting_Registry\n",
    "JOIN Folks ON Voting_Registry.identifier = Folks.personal_ID\n",
    "JOIN Temp_Closest_Data ON Temp_Closest_Data.residence_ID = Folks.residence_ID AND Temp_Closest_Data.voting_center_ID != Voting_Registry.voting_center_ID\n",
    "JOIN Places_Voting_Center ON Places_Voting_Center.place_ID = Voting_Registry.voting_center_ID\n",
    "JOIN Folks_Name ON Folks.name_ID = Folks_Name.name_ID\n",
    "ORDER BY Voting_Registry.identifier\n",
    "\"\"\"\n",
    "\n",
    "print_table(conn, c, [\"Personal_ID\", \"First Name\", \"Last Name\"], command, bold_col_names=True)\n",
    "\n",
    "\n",
    "\n",
    "# Drops the temporary table we made\n",
    "command = \"\"\"\n",
    "DROP TABLE IF EXISTS TEMP_Closest_Data; \n",
    "\"\"\"\n",
    "\n",
    "c.execute(command)\n",
    "conn.commit()"
   ]
  },
  {
   "cell_type": "code",
   "execution_count": 22,
   "metadata": {},
   "outputs": [
    {
     "name": "stdout",
     "output_type": "stream",
     "text": [
      "Closest Voting Center Acronym        \n",
      "DEF                                  \n",
      "\n"
     ]
    }
   ],
   "source": [
    "# 9. Write a SQL function that returns the acronym of the voting center closest to the residence of a given folk among those whose operating period(s) contain a given date (return NULL if no such center exists; break ties at alphabetically by acronym).\n",
    "\n",
    "def calc_distance(x0, y0, x1, y1):\n",
    "    return sqrt(pow(x1-x0, 2) + pow(y1-y0, 2))\n",
    "\n",
    "conn.create_function('calc_distance', 4, calc_distance)\n",
    "\n",
    "# Predetermined values (feel free to change if you want)\n",
    "folk_ID = 1\n",
    "date = \"2023-11-02 10:00:00\"\n",
    "\n",
    "command = f\"\"\"\n",
    "SELECT * FROM (\n",
    "    SELECT Places_Voting_Center.acronym FROM Places\n",
    "    JOIN Places_Voting_Center ON Places.place_ID = Places_Voting_Center.place_ID\n",
    "    JOIN Places_Operating_Periods ON Places_Voting_Center.op_ID = Places_Operating_Periods.op_ID\n",
    "    JOIN Places_Coordinates ON Places.coordinates_ID = Places_Coordinates.coordinates_ID\n",
    "    JOIN (\n",
    "        SELECT Places_Coordinates.x_coord, Places_Coordinates.y_coord FROM Folks\n",
    "        JOIN Places_Residences ON Folks.residence_ID = Places_Residences.place_ID\n",
    "        JOIN Places ON Places.place_ID = Places_Residences.place_ID\n",
    "        JOIN Places_Coordinates ON Places.coordinates_ID = Places_Coordinates.coordinates_ID\n",
    "        WHERE Folks.personal_ID = {folk_ID}\n",
    "    ) AS subquery\n",
    "    WHERE '{date}' BETWEEN start_time AND end_time\n",
    "    ORDER BY Places_Voting_Center.acronym\n",
    "    LIMIT 1\n",
    ")\n",
    "\"\"\"\n",
    "\n",
    "result = get_query(conn, c, command)\n",
    "\n",
    "\n",
    "\n",
    "def find_closest_voting_center(folk_ID, date, data):\n",
    "    if len(data) > 0:\n",
    "        return data\n",
    "    else:\n",
    "        return None\n",
    "\n",
    "conn.create_function('find_closest_voting_center', 3, find_closest_voting_center)\n",
    "\n",
    "command = f\"\"\"\n",
    "SELECT find_closest_voting_center({folk_ID}, '{date}', '{result[0][0]}')\n",
    "\"\"\"\n",
    "\n",
    "print_table(conn, c, [\"Closest Voting Center Acronym\"], command)"
   ]
  },
  {
   "cell_type": "code",
   "execution_count": 23,
   "metadata": {},
   "outputs": [
    {
     "name": "stdout",
     "output_type": "stream",
     "text": [
      "Voting Center Acronym        YES TOTAL        NO TOTAL        ABSTEIN TOTAL        \n",
      "ABC                          2                0               0                    \n",
      "DEF                          1                5               0                    \n",
      "GHI                          1                1               0                    \n",
      "\n"
     ]
    }
   ],
   "source": [
    "# 10. For a given ballot, construct a cross-tabulation of voting centers (acronym) as rows, unique ballot answers (options) as columns, and cells indicating number of cast votes at the row's center with the column's option.\n",
    "\n",
    "# Predetermined values (feel free to change if you want)\n",
    "ballot_ID = 1\n",
    "\n",
    "command = f\"\"\"\n",
    "SELECT Places_Voting_Center.acronym, vote FROM Cast_Votes\n",
    "JOIN Voting_Registry ON Cast_Votes.voting_reg_ID = Voting_Registry.voting_reg_ID\n",
    "JOIN Places_Voting_Center ON Voting_Registry.voting_center_ID = Places_Voting_Center.place_ID\n",
    "WHERE Cast_Votes.ballot_ID = {ballot_ID}\n",
    "ORDER BY Places_Voting_Center.acronym, vote DESC\n",
    "\"\"\"\n",
    "\n",
    "query = get_query(conn, c, command)\n",
    "\n",
    "tabulation = {}\n",
    "\n",
    "# Populates tabulation\n",
    "for result in query:\n",
    "    if result[0] not in tabulation:\n",
    "        tabulation[result[0]] = {\n",
    "            'YES': 0,\n",
    "            'NO': 0,\n",
    "            'ABSTAIN': 0\n",
    "        }\n",
    "    \n",
    "    if result[1] in tabulation[result[0]]:\n",
    "        tabulation[result[0]][result[1]] += 1\n",
    "\n",
    "\n",
    "\n",
    "# Creates temporary table\n",
    "command = f\"\"\"\n",
    "CREATE TABLE Temp_Tabulation (\n",
    "    voting_center_acronym VARCHAR(4),\n",
    "    YES_count INT,\n",
    "    NO_count INT,\n",
    "    ABSTAIN_count INT\n",
    ")\n",
    "\"\"\"\n",
    "\n",
    "c.execute(command)\n",
    "conn.commit()\n",
    "\n",
    "# Populates data from the tabulation dictionary\n",
    "for acronym in tabulation:\n",
    "    command = f\"\"\"\n",
    "    INSERT INTO Temp_Tabulation\n",
    "    VALUES ('{acronym}', {tabulation[acronym]['YES']}, {tabulation[acronym]['NO']}, {tabulation[acronym]['ABSTAIN']})\n",
    "    \"\"\"\n",
    "\n",
    "    c.execute(command)\n",
    "    conn.commit()\n",
    "\n",
    "command = f\"\"\"\n",
    "SELECT * FROM Temp_Tabulation\n",
    "\"\"\"\n",
    "\n",
    "print_table(conn, c, [\"Voting Center Acronym\", \"YES TOTAL\", \"NO TOTAL\", \"ABSTEIN TOTAL\"], command)\n",
    "\n",
    "# Drops the temporary table we made\n",
    "command = \"\"\"\n",
    "DROP TABLE IF EXISTS Temp_Tabulation; \n",
    "\"\"\"\n",
    "\n",
    "c.execute(command)\n",
    "conn.commit()"
   ]
  },
  {
   "cell_type": "code",
   "execution_count": 2,
   "metadata": {},
   "outputs": [
    {
     "name": "stdout",
     "output_type": "stream",
     "text": [
      "dropAll.sql Successful Executed\n"
     ]
    }
   ],
   "source": [
    "# Deletes all data from the database (if you want)\n",
    "\n",
    "confirmation = str(input(\"Are you sure you want to delete the entire database? (type YES): \"))\n",
    "\n",
    "if confirmation == \"YES\":\n",
    "    execute_SQL(conn, c, 'dropAll.sql')\n",
    "else:\n",
    "    print(\"Confirmation failed. Didn't delete the database.\")"
   ]
  },
  {
   "cell_type": "code",
   "execution_count": 3,
   "metadata": {},
   "outputs": [
    {
     "name": "stdout",
     "output_type": "stream",
     "text": [
      "Connection Closed\n"
     ]
    }
   ],
   "source": [
    "# Closes the connection\n",
    "\n",
    "conn.close()\n",
    "print(\"Connection Closed\")"
   ]
  }
 ],
 "metadata": {
  "kernelspec": {
   "display_name": "Python 3",
   "language": "python",
   "name": "python3"
  },
  "language_info": {
   "codemirror_mode": {
    "name": "ipython",
    "version": 3
   },
   "file_extension": ".py",
   "mimetype": "text/x-python",
   "name": "python",
   "nbconvert_exporter": "python",
   "pygments_lexer": "ipython3",
   "version": "3.9.5"
  }
 },
 "nbformat": 4,
 "nbformat_minor": 2
}
